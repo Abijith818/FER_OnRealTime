{
 "cells": [
  {
   "cell_type": "code",
   "execution_count": 1,
   "id": "6d119667",
   "metadata": {},
   "outputs": [],
   "source": [
    "from keras.preprocessing.image import ImageDataGenerator\n",
    "from keras.applications import MobileNet\n",
    "from keras.layers import GlobalAveragePooling2D, Dense, Dropout\n",
    "from keras.models import Model\n",
    "from keras.optimizers import Adam\n",
    "import numpy as np\n",
    "from imblearn.over_sampling import SMOTE\n",
    "from collections import Counter"
   ]
  },
  {
   "cell_type": "code",
   "execution_count": 2,
   "id": "71f15407",
   "metadata": {},
   "outputs": [],
   "source": [
    "# Define image dimensions and batch size\n",
    "IMG_HEIGHT = 48\n",
    "IMG_WIDTH = 48\n",
    "batch_size = 32\n"
   ]
  },
  {
   "cell_type": "code",
   "execution_count": 3,
   "id": "a8c149f2",
   "metadata": {},
   "outputs": [],
   "source": [
    "# Path to the training dataset directory\n",
    "train_data_dir = 'train'\n",
    "validation_data_dir = 'test'"
   ]
  },
  {
   "cell_type": "code",
   "execution_count": 4,
   "id": "e4fa12b1",
   "metadata": {},
   "outputs": [],
   "source": [
    "# Create ImageDataGenerator for the entire training dataset (before oversampling)\n",
    "pre_oversampling_datagen = ImageDataGenerator(\n",
    "    rescale=1./255\n",
    ")"
   ]
  },
  {
   "cell_type": "code",
   "execution_count": 5,
   "id": "baec41ab",
   "metadata": {},
   "outputs": [
    {
     "name": "stdout",
     "output_type": "stream",
     "text": [
      "Found 28709 images belonging to 7 classes.\n"
     ]
    }
   ],
   "source": [
    "\n",
    "# Generate the training dataset (before oversampling)\n",
    "pre_oversampling_generator = pre_oversampling_datagen.flow_from_directory(\n",
    "    train_data_dir,\n",
    "    color_mode='grayscale',\n",
    "    target_size=(IMG_HEIGHT, IMG_WIDTH),\n",
    "    batch_size=batch_size,\n",
    "    class_mode='categorical',\n",
    "    shuffle=True\n",
    ")"
   ]
  },
  {
   "cell_type": "code",
   "execution_count": 6,
   "id": "406d163f",
   "metadata": {},
   "outputs": [],
   "source": [
    "# Define the number of desired samples for \"Disgust\" class to balance it with the majority class\n",
    "desired_samples = 4100  # Matching the number of \"Happy\" samples"
   ]
  },
  {
   "cell_type": "code",
   "execution_count": 7,
   "id": "0cc62159",
   "metadata": {},
   "outputs": [],
   "source": [
    "# Create an ImageDataGenerator for augmenting \"Disgust\" class\n",
    "disgust_datagen = ImageDataGenerator(\n",
    "    rescale=1./255,\n",
    "    rotation_range=30,\n",
    "    shear_range=0.3,\n",
    "    zoom_range=0.3,\n",
    "    horizontal_flip=True,\n",
    "    fill_mode='nearest'\n",
    ")"
   ]
  },
  {
   "cell_type": "code",
   "execution_count": 8,
   "id": "d0e0f31a",
   "metadata": {},
   "outputs": [
    {
     "name": "stdout",
     "output_type": "stream",
     "text": [
      "Found 28709 images belonging to 7 classes.\n"
     ]
    }
   ],
   "source": [
    "\n",
    "# Generate augmented samples for \"Disgust\" class\n",
    "disgust_generator = disgust_datagen.flow_from_directory(\n",
    "    train_data_dir,\n",
    "    color_mode='grayscale',\n",
    "    target_size=(IMG_HEIGHT, IMG_WIDTH),\n",
    "    batch_size=batch_size,\n",
    "    class_mode='categorical',\n",
    "    shuffle=True,\n",
    "    subset='training',  # Select only \"Disgust\" class\n",
    ")"
   ]
  },
  {
   "cell_type": "code",
   "execution_count": 9,
   "id": "4a34fd20",
   "metadata": {},
   "outputs": [],
   "source": [
    "# Calculate the number of additional samples needed\n",
    "num_additional_samples = desired_samples - len(disgust_generator.filenames)"
   ]
  },
  {
   "cell_type": "code",
   "execution_count": 10,
   "id": "f7886a69",
   "metadata": {},
   "outputs": [],
   "source": [
    "# Create more augmented samples for \"Disgust\" class to match the desired count\n",
    "for _ in range(num_additional_samples // batch_size):\n",
    "    more_samples = disgust_generator.next()"
   ]
  },
  {
   "cell_type": "code",
   "execution_count": 11,
   "id": "8cbb8505",
   "metadata": {},
   "outputs": [],
   "source": [
    "# Create ImageDataGenerator for the entire training dataset (after oversampling)\n",
    "post_oversampling_datagen = ImageDataGenerator(\n",
    "    rescale=1./255\n",
    ")"
   ]
  },
  {
   "cell_type": "code",
   "execution_count": 12,
   "id": "cabc6dcc",
   "metadata": {},
   "outputs": [
    {
     "name": "stdout",
     "output_type": "stream",
     "text": [
      "Found 28709 images belonging to 7 classes.\n"
     ]
    }
   ],
   "source": [
    "# Generate the training dataset (after oversampling)\n",
    "post_oversampling_generator = post_oversampling_datagen.flow_from_directory(\n",
    "    train_data_dir,\n",
    "    color_mode='grayscale',\n",
    "    target_size=(IMG_HEIGHT, IMG_WIDTH),\n",
    "    batch_size=batch_size,\n",
    "    class_mode='categorical',\n",
    "    shuffle=True\n",
    ")"
   ]
  },
  {
   "cell_type": "code",
   "execution_count": 13,
   "id": "d1a23aa9",
   "metadata": {},
   "outputs": [],
   "source": [
    "# Count the number of samples for each class in the training dataset (before oversampling)\n",
    "pre_oversampling_class_counts = pre_oversampling_generator.classes\n",
    "pre_oversampling_class_labels = list(pre_oversampling_generator.class_indices.keys())\n",
    "pre_oversampling_sample_counts = [sum(pre_oversampling_class_counts == i) for i in range(len(pre_oversampling_class_labels))]"
   ]
  },
  {
   "cell_type": "code",
   "execution_count": 14,
   "id": "a1d399b1",
   "metadata": {},
   "outputs": [
    {
     "name": "stdout",
     "output_type": "stream",
     "text": [
      "Training Data Samples per Class (Before Oversampling):\n",
      "angry: 3995 samples\n",
      "disgust: 436 samples\n",
      "fear: 4097 samples\n",
      "happy: 7215 samples\n",
      "neutral: 4965 samples\n",
      "sad: 4830 samples\n",
      "surprise: 3171 samples\n"
     ]
    }
   ],
   "source": [
    "print(\"Training Data Samples per Class (Before Oversampling):\")\n",
    "for label, count in zip(pre_oversampling_class_labels, pre_oversampling_sample_counts):\n",
    "    print(f\"{label}: {count} samples\")"
   ]
  },
  {
   "cell_type": "code",
   "execution_count": 15,
   "id": "42da1a63",
   "metadata": {},
   "outputs": [],
   "source": [
    "# Count the number of samples for each class in the training dataset (after oversampling)\n",
    "post_oversampling_class_counts = post_oversampling_generator.classes\n",
    "post_oversampling_class_labels = list(post_oversampling_generator.class_indices.keys())\n",
    "post_oversampling_sample_counts = [sum(post_oversampling_class_counts == i) for i in range(len(post_oversampling_class_labels))]"
   ]
  },
  {
   "cell_type": "code",
   "execution_count": 16,
   "id": "14e29f5e",
   "metadata": {},
   "outputs": [
    {
     "name": "stdout",
     "output_type": "stream",
     "text": [
      "Training Data Samples per Class (After Oversampling):\n",
      "angry: 3995 samples\n",
      "disgust: 436 samples\n",
      "fear: 4097 samples\n",
      "happy: 7215 samples\n",
      "neutral: 4965 samples\n",
      "sad: 4830 samples\n",
      "surprise: 3171 samples\n"
     ]
    }
   ],
   "source": [
    "print(\"Training Data Samples per Class (After Oversampling):\")\n",
    "for label, count in zip(post_oversampling_class_labels, post_oversampling_sample_counts):\n",
    "    print(f\"{label}: {count} samples\")"
   ]
  }
 ],
 "metadata": {
  "kernelspec": {
   "display_name": "Python 3 (ipykernel)",
   "language": "python",
   "name": "python3"
  },
  "language_info": {
   "codemirror_mode": {
    "name": "ipython",
    "version": 3
   },
   "file_extension": ".py",
   "mimetype": "text/x-python",
   "name": "python",
   "nbconvert_exporter": "python",
   "pygments_lexer": "ipython3",
   "version": "3.11.4"
  }
 },
 "nbformat": 4,
 "nbformat_minor": 5
}
